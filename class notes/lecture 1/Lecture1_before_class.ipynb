{
 "cells": [
  {
   "cell_type": "markdown",
   "metadata": {
    "slideshow": {
     "slide_type": "slide"
    }
   },
   "source": [
    "# Lecture 1\n",
    "Today we cover a few very basics of Python to get you started: \n",
    "1. Variable types\n",
    "2. Comment\n",
    "3. List\n",
    "4. Identity and equality comparisons\n",
    "\n",
    "Reading material: [Python tutorial](https://docs.python.org/3.7/tutorial/) 3.1.1, 3.1.2, 3.1.3, 5.1"
   ]
  },
  {
   "cell_type": "markdown",
   "metadata": {},
   "source": [
    "## 1. Variable types\n",
    "Python will guess the type when you define the variable. For example, if you set x = 2, then Python will make x an integer. If you set x = 2.0, Python will make it a float."
   ]
  },
  {
   "cell_type": "markdown",
   "metadata": {},
   "source": [
    "-  __integer__:  These are the signed integers ...−2,−1,0,1,2,..."
   ]
  },
  {
   "cell_type": "code",
   "execution_count": null,
   "metadata": {},
   "outputs": [],
   "source": [
    "x = 1\n",
    "type(x)"
   ]
  },
  {
   "cell_type": "code",
   "execution_count": null,
   "metadata": {},
   "outputs": [],
   "source": [
    "x = 2.1\n",
    "type(x)"
   ]
  },
  {
   "cell_type": "markdown",
   "metadata": {},
   "source": [
    "-  __float__:  real numbers with about 8 digits precision. There are modules that can give you arbitrary precision if needed."
   ]
  },
  {
   "cell_type": "code",
   "execution_count": null,
   "metadata": {},
   "outputs": [],
   "source": [
    "y = 2.0\n",
    "type(y)"
   ]
  },
  {
   "cell_type": "markdown",
   "metadata": {},
   "source": [
    "-  __string__:  A Python string (str) is a sequence of 0 or more characters enclosed within a pair of single quotes (') or a pair of double quotes (\")."
   ]
  },
  {
   "cell_type": "code",
   "execution_count": null,
   "metadata": {},
   "outputs": [],
   "source": [
    "a = 'Hello World!'\n",
    "type(a)"
   ]
  },
  {
   "cell_type": "code",
   "execution_count": null,
   "metadata": {},
   "outputs": [],
   "source": [
    "a = \"Hello World!\"\n",
    "type(a)"
   ]
  },
  {
   "cell_type": "code",
   "execution_count": null,
   "metadata": {},
   "outputs": [],
   "source": [
    "print(\"Hey, what's up\")"
   ]
  },
  {
   "cell_type": "code",
   "execution_count": null,
   "metadata": {},
   "outputs": [],
   "source": [
    "print('Hey, what's up')"
   ]
  },
  {
   "cell_type": "code",
   "execution_count": null,
   "metadata": {},
   "outputs": [],
   "source": [
    "print('Hey, what\\'s up')"
   ]
  },
  {
   "cell_type": "markdown",
   "metadata": {},
   "source": [
    "\\\\' is escape character in the string. [Read more](https://www.freecodecamp.org/news/escape-sequences-python/)"
   ]
  },
  {
   "cell_type": "code",
   "execution_count": null,
   "metadata": {},
   "outputs": [],
   "source": [
    "print(3*\"abc\")\n",
    "print(\"abc\"+\"def\")"
   ]
  },
  {
   "cell_type": "markdown",
   "metadata": {},
   "source": [
    "Exercise: Read 3.1.2 in the [Python tutorial](http://docs.python.org/3.7/tutorial/introduction.html) and check the output of the following:\n",
    "-  `print(\"McDonald's\")`\n",
    "-  `print(\"McDonald\\'s\")`\n",
    "-  `print('McDonald\\'s')`\n",
    "-  `print('McDonald's')`\n",
    "-  `print(r\"McDonald\\'s\")`\n",
    "-  `print(3*\"McDonald\\'s\")`\n",
    "-  `print(\"McDonald\" + \"\\'s\")`\n",
    "-  `print(\"McDonald\" \"\\'s\")`\n",
    "-  ```print(\"\"\"McDonald\n",
    "\n",
    "    \\'s\"\"\")```"
   ]
  },
  {
   "cell_type": "code",
   "execution_count": null,
   "metadata": {},
   "outputs": [],
   "source": [
    "a = 100\n",
    "print(\"id(a)=\", id(a))\n",
    "b = a\n",
    "print(\"id(b)=\", id(b))"
   ]
  },
  {
   "cell_type": "code",
   "execution_count": null,
   "metadata": {},
   "outputs": [],
   "source": [
    "a = 50\n",
    "print(a)"
   ]
  },
  {
   "cell_type": "code",
   "execution_count": null,
   "metadata": {},
   "outputs": [],
   "source": [
    "# How about b?\n",
    "print(b)"
   ]
  },
  {
   "cell_type": "code",
   "execution_count": null,
   "metadata": {},
   "outputs": [],
   "source": [
    "print(\"id(a)=\", id(a))\n",
    "print(\"id(b)=\", id(b))"
   ]
  },
  {
   "cell_type": "markdown",
   "metadata": {},
   "source": [
    "The [Python tutorial](http://docs.python.org/3.7/tutorial/introduction.html) offers a helpful representation to show how positive and negative indexes are interpreted:\n",
    "\n",
    "<pre>\n",
    " +---+---+---+---+---+---+\n",
    " | P | y | t | h | o | n |\n",
    " +---+---+---+---+---+---+\n",
    " 0   1   2   3   4   5   6\n",
    "-6  -5  -4  -3  -2  -1\n",
    "</pre>\n",
    "\n",
    "Think of the indices as pointing between characters, with the left edge of the first character numbered 0. Then the right edge of the last character of a string of n characters has index n, "
   ]
  },
  {
   "cell_type": "code",
   "execution_count": null,
   "metadata": {},
   "outputs": [],
   "source": [
    "s = \"Python\"\n",
    "print(id(s))\n",
    "print(s)\n",
    "# print(s[0])\n",
    "# print(s[1])\n",
    "# s[1] = \"z\" # error; python strings are immutable"
   ]
  },
  {
   "cell_type": "code",
   "execution_count": null,
   "metadata": {},
   "outputs": [],
   "source": [
    "s = \"Pzthon\"\n",
    "print(id(s))\n",
    "print(s)"
   ]
  },
  {
   "cell_type": "code",
   "execution_count": null,
   "metadata": {},
   "outputs": [],
   "source": [
    "s = \"Python\"\n",
    "s2 = s+'a'\n",
    "print(s2)\n",
    "print(id(s2))"
   ]
  },
  {
   "cell_type": "markdown",
   "metadata": {},
   "source": [
    "The Python slice notation can be used to access subsequences by specifying two index positions separated by a colon `(:)`; seq[start:stop] returns all the elements in seq between start and stop - 1 (inclusive).\n",
    "\n",
    "__Exercise: Predict and check the output of the following, assuming that s = \"abcdefg\"__\n",
    "```\n",
    "-  print(s[0])\n",
    "-  print(s[6])\n",
    "-  print(s[7])\n",
    "-  print(s[-1])\n",
    "-  print(s[1:3])\n",
    "-  print(s[:3])\n",
    "-  print(s[3:])\n",
    "-  print(s[0:-2])\n",
    "-  print(s[0:100])\n",
    "-  s[0] = 'z'\n",
    "-  s[0:3] = ['x','y','z']\n",
    "-  print(len(s))\n",
    "```"
   ]
  },
  {
   "cell_type": "code",
   "execution_count": null,
   "metadata": {},
   "outputs": [],
   "source": [
    "# s[start:end:step]"
   ]
  },
  {
   "cell_type": "code",
   "execution_count": null,
   "metadata": {},
   "outputs": [],
   "source": [
    "s = \"abcdefghijklmn\"\n",
    "# print(s[7]) # index out of range\n",
    "# print(s[:3])\n",
    "# print(s[1:5:2]) # index 1, index 3, \n",
    "# print(s[1::3]) # index 1, index 4, index 7, index 10, ....\n",
    "# print(s[1:])\n",
    "# print(s[1:6:100])"
   ]
  },
  {
   "cell_type": "code",
   "execution_count": null,
   "metadata": {},
   "outputs": [],
   "source": [
    "print(s[1:1000])"
   ]
  },
  {
   "cell_type": "code",
   "execution_count": null,
   "metadata": {},
   "outputs": [],
   "source": [
    "print(s[1000:2000]) # returns an empty string"
   ]
  },
  {
   "cell_type": "code",
   "execution_count": null,
   "metadata": {},
   "outputs": [],
   "source": [
    "print(s[-1])"
   ]
  },
  {
   "cell_type": "code",
   "execution_count": null,
   "metadata": {},
   "outputs": [],
   "source": [
    "s = \"abcdefghijklmn\"\n",
    "print(s[::-1])\n",
    "print(s[-2:-7:-1])"
   ]
  },
  {
   "cell_type": "code",
   "execution_count": null,
   "metadata": {},
   "outputs": [],
   "source": [
    "s = \"abcdefg\"\n",
    "s[6:0:-1]"
   ]
  },
  {
   "cell_type": "markdown",
   "metadata": {},
   "source": [
    "## 2. Comments"
   ]
  },
  {
   "cell_type": "markdown",
   "metadata": {},
   "source": [
    "Commenting your code properly will help you and other understand and use it correctly. You should make this a habit when programming anything. Python allows for two types of comments: long multi-line comments and short inline comments. Your codes should contain a long comment at the beginning, which contains information for somebody using your code. \n",
    "\n",
    "The Python ***comment*** character is **`'#'`**: anything after `'#'` on the line is ignored by the Python interpreter. PEP8 style guidelines recommend using at least 2 blank spaces before an inline comment that appears on the same line as any code.\n",
    "\n",
    "***Multi-line strings*** can be used within code blocks to provide multi-line comments.\n",
    "\n",
    "Multi-line strings are delimited by pairs of triple quotes (**`'''`** or **`\"\"\"`**). Any newlines in the string will be represented as `'\\n'` characters in the string."
   ]
  },
  {
   "cell_type": "code",
   "execution_count": null,
   "metadata": {},
   "outputs": [],
   "source": [
    "# This is a one-line comment\n",
    "\n",
    "'''\n",
    "this\n",
    "is\n",
    "a\n",
    "multi\n",
    "line\n",
    "comment\n",
    "'''\n",
    "\n",
    "\"\"\"\n",
    "this\n",
    "is\n",
    "a\n",
    "multi\n",
    "line\n",
    "comment\n",
    "\"\"\"\n",
    "\n",
    "print(\"Hello World!\") # This is a one-line comment again"
   ]
  },
  {
   "cell_type": "code",
   "execution_count": null,
   "metadata": {},
   "outputs": [],
   "source": [
    "print(\"\"\"\n",
    "this\n",
    "is\n",
    "a\n",
    "multi\n",
    "line\n",
    "comment\n",
    "\"\"\")"
   ]
  },
  {
   "cell_type": "markdown",
   "metadata": {},
   "source": [
    "## 3. Lists"
   ]
  },
  {
   "cell_type": "markdown",
   "metadata": {},
   "source": [
    "A [**`list`**](http://docs.python.org/3.7/tutorial/introduction.html#lists) is an ordered ***sequence*** of 0 or more comma-delimited elements enclosed within square brackets ('`[`', '`]`'). "
   ]
  },
  {
   "cell_type": "code",
   "execution_count": null,
   "metadata": {},
   "outputs": [],
   "source": [
    "s = [1,2,3,4,5,6,7,8]\n",
    "print(type(s))\n",
    "print(s)"
   ]
  },
  {
   "cell_type": "markdown",
   "metadata": {},
   "source": [
    "The Python [**`str.split(sep)`**](http://docs.python.org/3.7/library/stdtypes.html#str.split) method can be used to split a `sep`-delimited string into a corresponding list of elements.\n",
    "\n",
    "In the following example, a comma-delimited string is split using `sep=','`."
   ]
  },
  {
   "cell_type": "code",
   "execution_count": null,
   "metadata": {},
   "outputs": [],
   "source": [
    "s_str= 'a,b,c,d,e,f,g'\n",
    "s_list = s_str.split(',')\n",
    "print(s_list)\n",
    "print(type(s_list))"
   ]
  },
  {
   "cell_type": "code",
   "execution_count": null,
   "metadata": {},
   "outputs": [],
   "source": [
    "s_str= 'a b c d e f g'\n",
    "s_list = s_str.split()\n",
    "print(s_list)"
   ]
  },
  {
   "cell_type": "code",
   "execution_count": null,
   "metadata": {},
   "outputs": [],
   "source": [
    "s = [1,2,3,4,5,6,7,8]\n",
    "print(s[::2])  # print elements in even-numbered positions\n",
    "print(s[1::2])  # print elements in odd-numbered positions\n",
    "print(s[::-1])  # print elements in reverse order\n",
    "print(s[:-4:-1])"
   ]
  },
  {
   "cell_type": "markdown",
   "metadata": {},
   "source": [
    "__Exercise:__ Predict and check the output of the following, assuming that `s = ['a','b','c','d','e'] + ['f','g']`\n",
    "has been executed. Which of the following will produce different output from the previous exercise, and what will it be?\n",
    "```\n",
    "-  print(s[0])\n",
    "-  print(s[6])\n",
    "-  print(s[7])\n",
    "-  print(s[-1])\n",
    "-  print(s[1:3])\n",
    "-  print(s[:3])\n",
    "-  print(s[3:])\n",
    "-  print(s[0:-2])\n",
    "-  print(s[0:100])\n",
    "-  s[0] = 'z'; print(s)\n",
    "-  s[0:3] = ['x','y','z']; print(s)\n",
    "```"
   ]
  },
  {
   "cell_type": "code",
   "execution_count": null,
   "metadata": {},
   "outputs": [],
   "source": [
    "s = ['a','b','c','d','e']+['f','g']\n",
    "print(s)"
   ]
  },
  {
   "cell_type": "code",
   "execution_count": null,
   "metadata": {},
   "outputs": [],
   "source": [
    "print(str(['a', 'b', 'c', 'd', 'e', 'f', 'g']))"
   ]
  },
  {
   "cell_type": "code",
   "execution_count": null,
   "metadata": {},
   "outputs": [],
   "source": [
    "print(\"\".join([\"ab\",\"cde\",\"fg\"])) # join strings in a python list"
   ]
  },
  {
   "cell_type": "code",
   "execution_count": null,
   "metadata": {},
   "outputs": [],
   "source": [
    "s = ['a', 'b', 'c', 'd', 'e', 'f', 'g']\n",
    "print(id(s))\n",
    "s[1] = 100\n",
    "print(id(s))\n",
    "print(s)"
   ]
  },
  {
   "cell_type": "markdown",
   "metadata": {},
   "source": [
    "Lists may also have lists as their elements:"
   ]
  },
  {
   "cell_type": "code",
   "execution_count": null,
   "metadata": {},
   "outputs": [],
   "source": [
    "K=[[1,2],[3,4,5],'s']\n",
    "print(K[0][1])\n",
    "print(K[0][:])\n",
    "print(K[1])\n",
    "print(K[2])"
   ]
  },
  {
   "cell_type": "markdown",
   "metadata": {},
   "source": [
    "In python, if say __if L:__ then the list L is interpreted as true if it is nonempty, and false otherwise."
   ]
  },
  {
   "cell_type": "code",
   "execution_count": null,
   "metadata": {},
   "outputs": [],
   "source": [
    "L = [1,2]\n",
    "if L:\n",
    "    print(\"The list is nonempty\")"
   ]
  },
  {
   "cell_type": "markdown",
   "metadata": {},
   "source": [
    "__List comprehension__ is an extremely intuitive and efficient way to create lists in python."
   ]
  },
  {
   "cell_type": "code",
   "execution_count": null,
   "metadata": {},
   "outputs": [],
   "source": [
    "# explicit for-loop \n",
    "L = [] # empty list\n",
    "for i in range(6):\n",
    "#     print(i)\n",
    "    L.append(i**2)\n",
    "#     print(L)\n",
    "print(L)"
   ]
  },
  {
   "cell_type": "code",
   "execution_count": null,
   "metadata": {},
   "outputs": [],
   "source": [
    "[i**2 for i in range(6)]"
   ]
  },
  {
   "cell_type": "code",
   "execution_count": null,
   "metadata": {},
   "outputs": [],
   "source": [
    "[i**2 for i in range(6) if i%2==0]"
   ]
  },
  {
   "cell_type": "code",
   "execution_count": null,
   "metadata": {},
   "outputs": [],
   "source": [
    "[0 for _ in range(5)] #we can use _ if we don't need a variable\n",
    "# equivalent to \n",
    "# [0 for i in range(5)]"
   ]
  },
  {
   "cell_type": "code",
   "execution_count": null,
   "metadata": {},
   "outputs": [],
   "source": [
    "# list(range(1, 5))\n",
    "# range(start, end, step)\n",
    "for i in range(1, 10, 2):\n",
    "    print(i)"
   ]
  },
  {
   "cell_type": "code",
   "execution_count": null,
   "metadata": {},
   "outputs": [],
   "source": [
    "[i+j for i in range(2) for j in range(4)]"
   ]
  },
  {
   "cell_type": "code",
   "execution_count": null,
   "metadata": {},
   "outputs": [],
   "source": [
    "# explicit for-loop \n",
    "L = [] # empty list\n",
    "for i in range(2):\n",
    "    for j in range(4):\n",
    "        L.append(i+j)\n",
    "print(L)"
   ]
  },
  {
   "cell_type": "code",
   "execution_count": null,
   "metadata": {},
   "outputs": [],
   "source": [
    "[[i+j for i in range(2)] for j in range(4)]"
   ]
  },
  {
   "cell_type": "code",
   "execution_count": null,
   "metadata": {},
   "outputs": [],
   "source": [
    "L = []\n",
    "for j in range(4):\n",
    "    inner_list = []\n",
    "    for i in range(2):\n",
    "        inner_list.append(i+j)\n",
    "    L.append(inner_list)\n",
    "print(L)"
   ]
  },
  {
   "cell_type": "code",
   "execution_count": null,
   "metadata": {},
   "outputs": [],
   "source": [
    "\"\"\"\n",
    "This is what I meant by \"block comments\"\n",
    "\"\"\"\n",
    "def myFun(c):\n",
    "    \"\"\"\n",
    "    This is what I meant by \"block comments\"\n",
    "    \"\"\"\n",
    "#     pass # this line does nothing\n",
    "    return c+[1]"
   ]
  },
  {
   "cell_type": "markdown",
   "metadata": {},
   "source": [
    "### Mutability"
   ]
  },
  {
   "cell_type": "markdown",
   "metadata": {},
   "source": [
    "One important distinction between strings and lists has to do with their [*mutability*](http://docs.python.org/3.7/reference/datamodel.html).\n",
    "\n",
    "Python strings are *immutable*, i.e., they cannot be modified. Most string methods (like `str.strip()`) return modified *copies* of the strings on which they are used.\n",
    "\n",
    "Python lists are *mutable*, i.e., they can be modified. \n",
    "\n",
    "The examples below illustrate a number of [`list`](http://docs.python.org/3.7/tutorial/datastructures.html#more-on-lists) methods that modify lists."
   ]
  },
  {
   "cell_type": "code",
   "execution_count": null,
   "metadata": {},
   "outputs": [],
   "source": [
    "list_1 = [1, 2, 3, 5, 1]\n",
    "list_2 = list_1  # list_2 now references the same object as list_1\n",
    "\n",
    "print('list_1:', list_1)\n",
    "print('list_2:', list_2)\n",
    "\n",
    "list_1.remove(1)  # remove [only] the first occurrence of 1 in list_1\n",
    "print('list_1.remove(1):   ', list_1)\n",
    "\n",
    "list_1.pop(2)  # remove the element in position 2\n",
    "print('list_1.pop(2):      ', list_1)\n",
    "\n",
    "list_1.append(6)  # add 6 to the end of list_1\n",
    "print('list_1.append(6):   ', list_1)\n",
    "\n",
    "list_1.insert(0, 7)  # add 7 to the beinning of list_1 (before the element in position 0)\n",
    "print('list_1.insert(0, 7):', list_1)\n",
    "\n",
    "list_1.sort()\n",
    "print('list_1.sort():      ', list_1)\n",
    "\n",
    "list_1.reverse()\n",
    "print('list_1.reverse():   ', list_1)"
   ]
  },
  {
   "cell_type": "code",
   "execution_count": null,
   "metadata": {},
   "outputs": [],
   "source": [
    "print('list_1:', list_1)\n",
    "print('list_2:', list_2)"
   ]
  },
  {
   "cell_type": "markdown",
   "metadata": {},
   "source": [
    "We can create __a copy of a list__ by using slice notation and not specifying a start or end parameter, i.e., [:], and if we assign that copy to another variable, the variables will be bound to different objects, so changes to one do not affect the other."
   ]
  },
  {
   "cell_type": "code",
   "execution_count": null,
   "metadata": {},
   "outputs": [],
   "source": [
    "list_1 = [1, 2, 3, 5, 1]\n",
    "list_2 = list_1[:]  # list_1[:] returns a copy of the entire contents of list_1\n",
    "\n",
    "print('list_1:', list_1)\n",
    "print('list_2:', list_2)\n",
    "\n",
    "list_1.remove(1)  # remove [only] the first occurrence of 1 in list_1\n",
    "print('list_1.remove(1):   ', list_1)\n",
    "\n",
    "print('list_1:', list_1)\n",
    "print('list_2:', list_2)"
   ]
  },
  {
   "cell_type": "code",
   "execution_count": null,
   "metadata": {},
   "outputs": [],
   "source": [
    "L = [1,2,3]\n",
    "L2 = [4,5,6]\n",
    "S = [L, L2]\n",
    "print(S)\n",
    "T = S[:] # creates a shallow copy\n",
    "print(T)\n",
    "S[1] = 1000\n",
    "print(S)\n",
    "print(T)\n",
    "L[0] = -100\n",
    "print(S)\n",
    "print(T)\n",
    "\n",
    "# check out the copy.deepcopy function if you would like to create a deep copy of nested Python Lists\n",
    "# https://docs.python.org/3/library/copy.html"
   ]
  },
  {
   "cell_type": "code",
   "execution_count": null,
   "metadata": {},
   "outputs": [],
   "source": [
    "list_1 = [1, 2, 3, 5, 1]\n",
    "print(len(list_1))\n",
    "str_1 = \"abc\"\n",
    "print(len(str_1))"
   ]
  },
  {
   "cell_type": "code",
   "execution_count": null,
   "metadata": {},
   "outputs": [],
   "source": [
    "s = \"abc\"\n",
    "t = s\n",
    "print(s, t)\n",
    "s = s + \"d\"\n",
    "print(s, t)"
   ]
  },
  {
   "cell_type": "markdown",
   "metadata": {},
   "source": [
    "## Exercises"
   ]
  },
  {
   "cell_type": "markdown",
   "metadata": {},
   "source": [
    "- Use list comprehension to create the following object:  [[1,2,3],[2,4,6],[3,6,9],[4,8,12]] ."
   ]
  },
  {
   "cell_type": "code",
   "execution_count": null,
   "metadata": {},
   "outputs": [],
   "source": []
  },
  {
   "cell_type": "markdown",
   "metadata": {},
   "source": [
    "- Use list comprehension to create the following object:[0,0,0,0,1,2,0,2,4,0,3,6,0,4,8,0,5,10]."
   ]
  },
  {
   "cell_type": "code",
   "execution_count": null,
   "metadata": {},
   "outputs": [],
   "source": []
  },
  {
   "cell_type": "markdown",
   "metadata": {},
   "source": [
    "## 4. Identity and equality comparisons"
   ]
  },
  {
   "cell_type": "code",
   "execution_count": null,
   "metadata": {},
   "outputs": [],
   "source": [
    "x = [1,2,3]\n",
    "y = [1,2,3]\n",
    "z = x"
   ]
  },
  {
   "cell_type": "code",
   "execution_count": null,
   "metadata": {},
   "outputs": [],
   "source": [
    "print(x is y)"
   ]
  },
  {
   "cell_type": "code",
   "execution_count": null,
   "metadata": {},
   "outputs": [],
   "source": [
    "print(x == y)"
   ]
  },
  {
   "cell_type": "code",
   "execution_count": null,
   "metadata": {},
   "outputs": [],
   "source": [
    "print(x is z)"
   ]
  },
  {
   "cell_type": "code",
   "execution_count": null,
   "metadata": {},
   "outputs": [],
   "source": [
    "print(x == z)"
   ]
  },
  {
   "cell_type": "code",
   "execution_count": null,
   "metadata": {},
   "outputs": [],
   "source": [
    "print(y is z)"
   ]
  },
  {
   "cell_type": "code",
   "execution_count": null,
   "metadata": {},
   "outputs": [],
   "source": [
    "print(y == z)"
   ]
  },
  {
   "cell_type": "code",
   "execution_count": null,
   "metadata": {},
   "outputs": [],
   "source": [
    "x.append(4)\n",
    "print(x)\n",
    "print(y)\n",
    "print(z)"
   ]
  },
  {
   "cell_type": "markdown",
   "metadata": {},
   "source": [
    "### Important: \n",
    "Variables never store objects themselves - they only reference objects that are elsewhere in memory, independent of the variable."
   ]
  }
 ],
 "metadata": {
  "kernelspec": {
   "display_name": "Python 3 (ipykernel)",
   "language": "python",
   "name": "python3"
  },
  "language_info": {
   "codemirror_mode": {
    "name": "ipython",
    "version": 3
   },
   "file_extension": ".py",
   "mimetype": "text/x-python",
   "name": "python",
   "nbconvert_exporter": "python",
   "pygments_lexer": "ipython3",
   "version": "3.9.12"
  }
 },
 "nbformat": 4,
 "nbformat_minor": 2
}
