{
 "cells": [
  {
   "cell_type": "markdown",
   "id": "724fd47d",
   "metadata": {},
   "source": [
    "### STA 4724: Homework 3 - Due Friday, Oct. 18 \n",
    "**Instructions**: Finsih the assign by directly answering the question or finishing the code in this Jupyter notebook. \n",
    "\n",
    "After you finish, submit the saved notebook to webcourses."
   ]
  },
  {
   "cell_type": "markdown",
   "id": "b28770c6",
   "metadata": {},
   "source": [
    "**Your name:** Mustaeen Ahmed      \n",
    "\n",
    "**Your ID:** 5530892"
   ]
  },
  {
   "cell_type": "markdown",
   "id": "4e1f7ada",
   "metadata": {},
   "source": [
    "## Question 1: kNN\n",
    "For the *yeast* dataset, we want to predicte the compartment in a cell that a yeast protein will localize to based on properties of its sequence.\n",
    "\n",
    "**(a)** Read the training and testing datasets."
   ]
  },
  {
   "cell_type": "code",
   "execution_count": null,
   "id": "f4c42d46",
   "metadata": {},
   "outputs": [],
   "source": []
  },
  {
   "cell_type": "markdown",
   "id": "44e13f10",
   "metadata": {},
   "source": [
    "**(b)** Use leave-one-out cross validation to select the value of $k$ for kNN model.\n",
    "\n",
    "Hint 1: try to apply kNN with a fixed $k$ first, then figure out how to use cross validation. In *yeast_3.txt*, I list the result when $k=3$ and you can use it as a reference.\n",
    "\n",
    "Hint 2: Some of the $k$ values are not suitable to be the \"best\". You shouldn't even test them in the cross validation."
   ]
  },
  {
   "cell_type": "code",
   "execution_count": null,
   "id": "eff21a0d",
   "metadata": {},
   "outputs": [],
   "source": []
  },
  {
   "cell_type": "markdown",
   "id": "83adb660",
   "metadata": {},
   "source": [
    "**(c)** Train the kNN model with the best $k$, and use it to predicte the testing data."
   ]
  },
  {
   "cell_type": "code",
   "execution_count": null,
   "id": "58827880",
   "metadata": {},
   "outputs": [],
   "source": []
  },
  {
   "cell_type": "markdown",
   "id": "5b680919",
   "metadata": {},
   "source": [
    "**(d)** Print the confusion matrix, then manually compute the accuracy based on the confusion matrix. That is, don't call any built-in function for the accuracy, but type the equation you will use for calculating the accuracy."
   ]
  },
  {
   "cell_type": "code",
   "execution_count": null,
   "id": "9f97d5e6",
   "metadata": {},
   "outputs": [],
   "source": []
  },
  {
   "cell_type": "markdown",
   "id": "26988db5",
   "metadata": {},
   "source": [
    "## Question 2: Logistic Regression\n",
    "\n",
    "We study the *myopia* dataset in this problem.\n",
    "\n",
    "**(a)** Read the data file and make a scatterplot of MYOPIA vs. SPHEQ."
   ]
  },
  {
   "cell_type": "code",
   "execution_count": null,
   "id": "42e77179",
   "metadata": {},
   "outputs": [],
   "source": []
  },
  {
   "cell_type": "markdown",
   "id": "93113a94",
   "metadata": {},
   "source": [
    "**(b)** Fit the logistic regression model of SPHEQ on MYOPIA"
   ]
  },
  {
   "cell_type": "code",
   "execution_count": null,
   "id": "67101e6e",
   "metadata": {},
   "outputs": [],
   "source": []
  },
  {
   "attachments": {
    "image.png": {
     "image/png": "[encoded data removed]"
    }
   },
   "cell_type": "markdown",
   "id": "5e28b6f2",
   "metadata": {},
   "source": [
    "**(c)** Plot the logistic function found in (b) together with the scatterplot. You are looking for something like \n",
    "\n",
    "![image.png](attachment:image.png)\n",
    "\n",
    "Hint: Although we didn't make this logistic function plot in class, the idea behind it is similar to the linear function plot in the earlier lecture. "
   ]
  },
  {
   "cell_type": "code",
   "execution_count": null,
   "id": "d78abf2c",
   "metadata": {},
   "outputs": [],
   "source": []
  },
  {
   "cell_type": "markdown",
   "id": "23e96586",
   "metadata": {},
   "source": [
    "## Question 3: Naive Bayes\n",
    "We have the *vote* datasets collected from 1984 United States Congressional Voting Records.\n",
    "\n",
    "**(a)** Read the training and testing data file, and make any necessary preprocess so the data is ready to be used by naive bayes.\n",
    "\n",
    "Hint: computer cannot read 'y/n' just like it cannot read tweets directly."
   ]
  },
  {
   "cell_type": "code",
   "execution_count": null,
   "id": "c56c98bf",
   "metadata": {},
   "outputs": [],
   "source": []
  },
  {
   "cell_type": "markdown",
   "id": "f3251080",
   "metadata": {},
   "source": [
    "**(b)** Train the bayes model and use it to predict the voting result on the testing data."
   ]
  },
  {
   "cell_type": "code",
   "execution_count": null,
   "id": "8627e273",
   "metadata": {},
   "outputs": [],
   "source": []
  },
  {
   "cell_type": "markdown",
   "id": "45d09d99",
   "metadata": {},
   "source": [
    "**(c)** Plot the ROC curve and report AUC."
   ]
  },
  {
   "cell_type": "code",
   "execution_count": null,
   "id": "12015565",
   "metadata": {},
   "outputs": [],
   "source": []
  },
  {
   "cell_type": "markdown",
   "id": "b529d327",
   "metadata": {},
   "source": [
    "**(d, Extra question, No bonus point)** Based on the data in the traning set, what's the most significant character for the republican voters? Can you write a short program to find it out? \n",
    "\n",
    "Hint: We didn't cover this in class."
   ]
  },
  {
   "cell_type": "markdown",
   "id": "21d2722e",
   "metadata": {},
   "source": [
    "**Answer:** "
   ]
  }
 ],
 "metadata": {
  "kernelspec": {
   "display_name": "Python 3 (ipykernel)",
   "language": "python",
   "name": "python3"
  },
  "language_info": {
   "codemirror_mode": {
    "name": "ipython",
    "version": 3
   },
   "file_extension": ".py",
   "mimetype": "text/x-python",
   "name": "python",
   "nbconvert_exporter": "python",
   "pygments_lexer": "ipython3",
   "version": "3.8.13"
  }
 },
 "nbformat": 4,
 "nbformat_minor": 5
}
