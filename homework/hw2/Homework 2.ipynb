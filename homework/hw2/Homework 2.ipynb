{
 "cells": [
  {
   "cell_type": "markdown",
   "id": "724fd47d",
   "metadata": {},
   "source": [
    "## STA 4724: Homework 2 - Due Tuesday, Sep. 24 \n",
    "**Instructions**: Finsih the assign by directly answering the question or finishing the code in this Jupyter notebook. \n",
    "\n",
    "After you finish, submit the saved notebook to webcourses."
   ]
  },
  {
   "cell_type": "markdown",
   "id": "b28770c6",
   "metadata": {},
   "source": [
    "**Your name:** Mustaeen Ahmed               \n",
    "\n",
    "**Your ID:** 5530892"
   ]
  },
  {
   "cell_type": "markdown",
   "id": "4e1f7ada",
   "metadata": {},
   "source": [
    "## Question 1\n",
    "The cost of the maintenance of a certain type of tractor seems to increase with age. The file\n",
    "*tractor.csv* contains ages (years) and 6-monthly maintenance costs for n = 17 such tractors.\n",
    "\n",
    "**(a)** Read the data file."
   ]
  },
  {
   "cell_type": "code",
   "execution_count": null,
   "id": "f4c42d46",
   "metadata": {},
   "outputs": [],
   "source": []
  },
  {
   "cell_type": "markdown",
   "id": "44e13f10",
   "metadata": {},
   "source": [
    "**(b)** Create a scatterplot of tractor maintenance cost versus age."
   ]
  },
  {
   "cell_type": "code",
   "execution_count": null,
   "id": "eff21a0d",
   "metadata": {},
   "outputs": [],
   "source": []
  },
  {
   "cell_type": "markdown",
   "id": "83adb660",
   "metadata": {},
   "source": [
    "**(c)** Using regression to fit the model:\n",
    "$$\\text{cost}=\\beta_0+\\beta_1 \\text{age}$$\n",
    "in two different ways.\n",
    "\n",
    "Firstly, use python's bulit-in linear regression solver."
   ]
  },
  {
   "cell_type": "code",
   "execution_count": null,
   "id": "58827880",
   "metadata": {},
   "outputs": [],
   "source": []
  },
  {
   "cell_type": "markdown",
   "id": "99bf4b3d",
   "metadata": {},
   "source": [
    "Secondly, use close form solution of least square."
   ]
  },
  {
   "cell_type": "code",
   "execution_count": null,
   "id": "3ec20106",
   "metadata": {},
   "outputs": [],
   "source": []
  },
  {
   "cell_type": "markdown",
   "id": "5b680919",
   "metadata": {},
   "source": [
    "**(d)** Add both fitted lines (in different color/style) to the scatterplot. They should give you the same solution."
   ]
  },
  {
   "cell_type": "code",
   "execution_count": null,
   "id": "9f97d5e6",
   "metadata": {},
   "outputs": [],
   "source": []
  },
  {
   "cell_type": "markdown",
   "id": "7150b642",
   "metadata": {},
   "source": [
    "**(e)** Suppose you are considering buying a tractor  that is three years old, what would you expect your 6-monthly maintenance costs to be?"
   ]
  },
  {
   "cell_type": "markdown",
   "id": "8f078720",
   "metadata": {},
   "source": [
    "**Type your answer here**:"
   ]
  },
  {
   "cell_type": "markdown",
   "id": "26988db5",
   "metadata": {},
   "source": [
    "## Question 2\n",
    "### Part 1\n",
    "Let's generate a synthetic dataset for regression! It should have m = 150 data points and each has n = 75 dimensions (features).\n",
    "\n",
    "**(a)** Set the random seed to be 0."
   ]
  },
  {
   "cell_type": "code",
   "execution_count": null,
   "id": "42e77179",
   "metadata": {},
   "outputs": [],
   "source": []
  },
  {
   "cell_type": "markdown",
   "id": "93113a94",
   "metadata": {},
   "source": [
    "**(b)** Let $X\\in\\mathbb{R}^{m\\times n}$ be a random matrix using *numpy.random.rand()* function."
   ]
  },
  {
   "cell_type": "code",
   "execution_count": null,
   "id": "67101e6e",
   "metadata": {},
   "outputs": [],
   "source": []
  },
  {
   "cell_type": "markdown",
   "id": "5e28b6f2",
   "metadata": {},
   "source": [
    "**(c)** Set the first 10 components of $\\hat{\\beta}$ to be some random values between $-10$ and $10$, and all the other components to zero. \n",
    "\n",
    "Hint: Read what *numpy.random.rand()* generates, and how you generate random numbers in a different interval."
   ]
  },
  {
   "cell_type": "code",
   "execution_count": null,
   "id": "d78abf2c",
   "metadata": {},
   "outputs": [],
   "source": []
  },
  {
   "cell_type": "markdown",
   "id": "a59d88fc",
   "metadata": {},
   "source": [
    "**(d)** Computer $Y=X\\hat{\\beta}+\\varepsilon$ where $\\varepsilon\\in\\mathbb{R}^{m\\times 1}$ is a random noise vector generated using *numpy.random.randn()* with mean 0 and standard deviation 0.1."
   ]
  },
  {
   "cell_type": "code",
   "execution_count": null,
   "id": "f461acaf",
   "metadata": {},
   "outputs": [],
   "source": []
  },
  {
   "cell_type": "markdown",
   "id": "002e1f32",
   "metadata": {},
   "source": [
    "Note that the problem we generated here implicitly assume the interception (i.e., $\\beta_0$ in textbook) is 0. "
   ]
  },
  {
   "cell_type": "markdown",
   "id": "ae19417a",
   "metadata": {},
   "source": [
    "### Part 2\n",
    "We know the problem we generated above has a sparse solution. So we should solve it with lasso regression. Assume the user has the prior knowledge about the interception is 0. This we don't have to add the column of 1 in front of $X$.\n",
    "\n",
    "**(a)** Solve the lasso regression problem with $\\lambda=0.00001$."
   ]
  },
  {
   "cell_type": "code",
   "execution_count": null,
   "id": "97661f6f",
   "metadata": {},
   "outputs": [],
   "source": []
  },
  {
   "cell_type": "markdown",
   "id": "9a9af69b",
   "metadata": {},
   "source": [
    "**(b)** Use 10-folder cross validation to find the best regularization parameter between $0$ and $1$."
   ]
  },
  {
   "cell_type": "code",
   "execution_count": null,
   "id": "534e7e30",
   "metadata": {},
   "outputs": [],
   "source": []
  },
  {
   "cell_type": "markdown",
   "id": "27541b16",
   "metadata": {},
   "source": [
    "**(c)** Solve the lasso regression problem again with the best regularization parameter."
   ]
  },
  {
   "cell_type": "code",
   "execution_count": null,
   "id": "e9e82610",
   "metadata": {},
   "outputs": [],
   "source": []
  },
  {
   "cell_type": "markdown",
   "id": "7a5e2e1a",
   "metadata": {},
   "source": [
    "**(d)** Compare the estimated $\\beta_{\\text{est}}$ with the ground truth $\\hat{\\beta}$ by computing $\\|\\beta_{\\text{est}}-\\hat{\\beta}\\|_2$. The distance should be small."
   ]
  },
  {
   "cell_type": "code",
   "execution_count": null,
   "id": "adac480a",
   "metadata": {},
   "outputs": [],
   "source": []
  },
  {
   "cell_type": "markdown",
   "id": "23e96586",
   "metadata": {},
   "source": [
    "## Question 3\n",
    "In 1988, US cattle producers voted on whether or not to each pay a dollar per head towards the marketing campaigns of the American Beef Council. To understand the vote results, the Montana state cattlemen's association looked at the effect of the physical size of the farm and the value of the farms' gross revenue on voter preference. *beef.csv* consist of the vote results (YES in %), average SIZE of farm (in hundred acres), and average VAL of products sold annually by each farm (in thousand dollors) for each of Montana’s 56 counties.\n",
    "\n",
    "**(a)** Read the data file."
   ]
  },
  {
   "cell_type": "code",
   "execution_count": null,
   "id": "c56c98bf",
   "metadata": {},
   "outputs": [],
   "source": []
  },
  {
   "cell_type": "markdown",
   "id": "f3251080",
   "metadata": {},
   "source": [
    "**(b)** Use Multivariate Linear Regression to fit YES with SIZE and log(VAL) as the regressors."
   ]
  },
  {
   "cell_type": "code",
   "execution_count": null,
   "id": "8627e273",
   "metadata": {},
   "outputs": [],
   "source": []
  },
  {
   "cell_type": "markdown",
   "id": "74d34fc3",
   "metadata": {},
   "source": [
    "**(c)** Is this a good fit? Numerically check via a sutiable statistics test."
   ]
  },
  {
   "cell_type": "code",
   "execution_count": null,
   "id": "f1f445aa",
   "metadata": {},
   "outputs": [],
   "source": []
  },
  {
   "cell_type": "markdown",
   "id": "c1212739",
   "metadata": {},
   "source": [
    "**(d)** In this dataset, what fact may potentially be a probelm for our regression analysis?\n",
    "\n",
    "Hint: Does the effect of SIZE change depending on log(VAL)?"
   ]
  },
  {
   "cell_type": "markdown",
   "id": "f77ed429",
   "metadata": {},
   "source": [
    "**Type your answer here**:"
   ]
  }
 ],
 "metadata": {
  "kernelspec": {
   "display_name": "Python 3 (ipykernel)",
   "language": "python",
   "name": "python3"
  },
  "language_info": {
   "codemirror_mode": {
    "name": "ipython",
    "version": 3
   },
   "file_extension": ".py",
   "mimetype": "text/x-python",
   "name": "python",
   "nbconvert_exporter": "python",
   "pygments_lexer": "ipython3",
   "version": "3.9.12"
  }
 },
 "nbformat": 4,
 "nbformat_minor": 5
}
